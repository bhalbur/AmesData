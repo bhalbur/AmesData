{
 "cells": [
  {
   "cell_type": "code",
   "execution_count": 78,
   "metadata": {},
   "outputs": [],
   "source": [
    "import pandas as pd\n",
    "import numpy as np\n",
    "import scipy.stats as stats\n",
    "import sklearn\n",
    "import matplotlib.pyplot as plt\n",
    "import math\n",
    "from datetime import datetime\n",
    "from sklearn.metrics import mean_squared_error\n",
    "from sklearn.preprocessing import StandardScaler\n",
    "from sklearn.linear_model import LinearRegression\n",
    "pd.options.display.float_format = '{:,.2f}'.format\n",
    "import seaborn as sns\n",
    "from scipy.stats import norm, skew #for some statistics\n",
    "%matplotlib inline\n",
    "\n",
    "from scipy import stats"
   ]
  },
  {
   "cell_type": "code",
   "execution_count": 79,
   "metadata": {},
   "outputs": [],
   "source": [
    "## load in the preprocessed data and the sale prices for training data\n",
    "data = pd.read_csv('Master_DF.csv')\n",
    "data.set_index('Id', inplace=True)"
   ]
  },
  {
   "cell_type": "code",
   "execution_count": 80,
   "metadata": {},
   "outputs": [],
   "source": [
    "# import raw training data and get log of prices\n",
    "train_raw = pd.read_csv('train.csv')\n",
    "train_raw.set_index('Id', inplace=True)\n",
    "logprices = np.log10(train_raw.SalePrice)"
   ]
  },
  {
   "cell_type": "code",
   "execution_count": 81,
   "metadata": {},
   "outputs": [],
   "source": [
    "scaler = StandardScaler()\n",
    "data_scaled = scaler.fit_transform(data)\n",
    "columns = list(data.columns)"
   ]
  },
  {
   "cell_type": "code",
   "execution_count": 82,
   "metadata": {},
   "outputs": [],
   "source": [
    "scaled = pd.DataFrame(data_scaled, columns=columns)\n",
    "scaled.index +=1\n",
    "train = scaled.loc[1:1460,]\n",
    "test = scaled.loc[1461:2919,]"
   ]
  },
  {
   "cell_type": "code",
   "execution_count": 83,
   "metadata": {},
   "outputs": [
    {
     "data": {
      "text/plain": [
       "[524, 1299]"
      ]
     },
     "execution_count": 83,
     "metadata": {},
     "output_type": "execute_result"
    }
   ],
   "source": [
    "outliers = list(train_raw[(train_raw['GrLivArea']>4000) & (train_raw['SalePrice']<300000)].index)\n",
    "outliers"
   ]
  },
  {
   "cell_type": "code",
   "execution_count": 84,
   "metadata": {},
   "outputs": [],
   "source": [
    "##Drop some of the correlated and categorical variables\n",
    "dropcols = ['MSSubClass','MasVnrArea']\n",
    "droprows = outliers\n",
    "trim = scaled.drop(columns=dropcols)\n",
    "trim = trim.drop(droprows)\n",
    "trimprices = logprices.drop(droprows)"
   ]
  },
  {
   "cell_type": "code",
   "execution_count": 85,
   "metadata": {},
   "outputs": [
    {
     "data": {
      "text/html": [
       "<div>\n",
       "<style scoped>\n",
       "    .dataframe tbody tr th:only-of-type {\n",
       "        vertical-align: middle;\n",
       "    }\n",
       "\n",
       "    .dataframe tbody tr th {\n",
       "        vertical-align: top;\n",
       "    }\n",
       "\n",
       "    .dataframe thead th {\n",
       "        text-align: right;\n",
       "    }\n",
       "</style>\n",
       "<table border=\"1\" class=\"dataframe\">\n",
       "  <thead>\n",
       "    <tr style=\"text-align: right;\">\n",
       "      <th></th>\n",
       "      <th>Street</th>\n",
       "      <th>Alley</th>\n",
       "      <th>LotShape</th>\n",
       "      <th>LandContour</th>\n",
       "      <th>LotConfig</th>\n",
       "      <th>LandSlope</th>\n",
       "      <th>Neighborhood</th>\n",
       "      <th>Condition1</th>\n",
       "      <th>Condition2</th>\n",
       "      <th>BldgType</th>\n",
       "      <th>...</th>\n",
       "      <th>GarageYrBlt</th>\n",
       "      <th>WoodDeckSF</th>\n",
       "      <th>OpenPorchSF</th>\n",
       "      <th>EnclosedPorch</th>\n",
       "      <th>3SsnPorch</th>\n",
       "      <th>ScreenPorch</th>\n",
       "      <th>PoolArea</th>\n",
       "      <th>MiscVal</th>\n",
       "      <th>MoSold</th>\n",
       "      <th>YrSold</th>\n",
       "    </tr>\n",
       "  </thead>\n",
       "  <tbody>\n",
       "    <tr>\n",
       "      <th>1</th>\n",
       "      <td>0.06</td>\n",
       "      <td>0.06</td>\n",
       "      <td>0.75</td>\n",
       "      <td>0.32</td>\n",
       "      <td>0.59</td>\n",
       "      <td>-0.22</td>\n",
       "      <td>-1.25</td>\n",
       "      <td>-0.05</td>\n",
       "      <td>-0.01</td>\n",
       "      <td>-0.42</td>\n",
       "      <td>...</td>\n",
       "      <td>0.30</td>\n",
       "      <td>-0.74</td>\n",
       "      <td>0.20</td>\n",
       "      <td>-0.36</td>\n",
       "      <td>-0.10</td>\n",
       "      <td>-0.29</td>\n",
       "      <td>-0.06</td>\n",
       "      <td>-0.09</td>\n",
       "      <td>-1.55</td>\n",
       "      <td>0.16</td>\n",
       "    </tr>\n",
       "    <tr>\n",
       "      <th>2</th>\n",
       "      <td>0.06</td>\n",
       "      <td>0.06</td>\n",
       "      <td>0.75</td>\n",
       "      <td>0.32</td>\n",
       "      <td>-0.66</td>\n",
       "      <td>-0.22</td>\n",
       "      <td>1.94</td>\n",
       "      <td>-1.19</td>\n",
       "      <td>-0.01</td>\n",
       "      <td>-0.42</td>\n",
       "      <td>...</td>\n",
       "      <td>0.23</td>\n",
       "      <td>1.61</td>\n",
       "      <td>-0.70</td>\n",
       "      <td>-0.36</td>\n",
       "      <td>-0.10</td>\n",
       "      <td>-0.29</td>\n",
       "      <td>-0.06</td>\n",
       "      <td>-0.09</td>\n",
       "      <td>-0.45</td>\n",
       "      <td>-0.60</td>\n",
       "    </tr>\n",
       "    <tr>\n",
       "      <th>3</th>\n",
       "      <td>0.06</td>\n",
       "      <td>0.06</td>\n",
       "      <td>-1.38</td>\n",
       "      <td>0.32</td>\n",
       "      <td>0.59</td>\n",
       "      <td>-0.22</td>\n",
       "      <td>-1.25</td>\n",
       "      <td>-0.05</td>\n",
       "      <td>-0.01</td>\n",
       "      <td>-0.42</td>\n",
       "      <td>...</td>\n",
       "      <td>0.29</td>\n",
       "      <td>-0.74</td>\n",
       "      <td>-0.08</td>\n",
       "      <td>-0.36</td>\n",
       "      <td>-0.10</td>\n",
       "      <td>-0.29</td>\n",
       "      <td>-0.06</td>\n",
       "      <td>-0.09</td>\n",
       "      <td>1.03</td>\n",
       "      <td>0.16</td>\n",
       "    </tr>\n",
       "    <tr>\n",
       "      <th>4</th>\n",
       "      <td>0.06</td>\n",
       "      <td>0.06</td>\n",
       "      <td>-1.38</td>\n",
       "      <td>0.32</td>\n",
       "      <td>-1.90</td>\n",
       "      <td>-0.22</td>\n",
       "      <td>-1.08</td>\n",
       "      <td>-0.05</td>\n",
       "      <td>-0.01</td>\n",
       "      <td>-0.42</td>\n",
       "      <td>...</td>\n",
       "      <td>0.28</td>\n",
       "      <td>-0.74</td>\n",
       "      <td>-0.18</td>\n",
       "      <td>3.87</td>\n",
       "      <td>-0.10</td>\n",
       "      <td>-0.29</td>\n",
       "      <td>-0.06</td>\n",
       "      <td>-0.09</td>\n",
       "      <td>-1.55</td>\n",
       "      <td>-1.36</td>\n",
       "    </tr>\n",
       "    <tr>\n",
       "      <th>5</th>\n",
       "      <td>0.06</td>\n",
       "      <td>0.06</td>\n",
       "      <td>-1.38</td>\n",
       "      <td>0.32</td>\n",
       "      <td>-0.66</td>\n",
       "      <td>-0.22</td>\n",
       "      <td>0.43</td>\n",
       "      <td>-0.05</td>\n",
       "      <td>-0.01</td>\n",
       "      <td>-0.42</td>\n",
       "      <td>...</td>\n",
       "      <td>0.29</td>\n",
       "      <td>0.78</td>\n",
       "      <td>0.54</td>\n",
       "      <td>-0.36</td>\n",
       "      <td>-0.10</td>\n",
       "      <td>-0.29</td>\n",
       "      <td>-0.06</td>\n",
       "      <td>-0.09</td>\n",
       "      <td>2.13</td>\n",
       "      <td>0.16</td>\n",
       "    </tr>\n",
       "  </tbody>\n",
       "</table>\n",
       "<p>5 rows × 70 columns</p>\n",
       "</div>"
      ],
      "text/plain": [
       "   Street  Alley  LotShape  LandContour  LotConfig  LandSlope  Neighborhood  \\\n",
       "1    0.06   0.06      0.75         0.32       0.59      -0.22         -1.25   \n",
       "2    0.06   0.06      0.75         0.32      -0.66      -0.22          1.94   \n",
       "3    0.06   0.06     -1.38         0.32       0.59      -0.22         -1.25   \n",
       "4    0.06   0.06     -1.38         0.32      -1.90      -0.22         -1.08   \n",
       "5    0.06   0.06     -1.38         0.32      -0.66      -0.22          0.43   \n",
       "\n",
       "   Condition1  Condition2  BldgType  ...  GarageYrBlt  WoodDeckSF  \\\n",
       "1       -0.05       -0.01     -0.42  ...         0.30       -0.74   \n",
       "2       -1.19       -0.01     -0.42  ...         0.23        1.61   \n",
       "3       -0.05       -0.01     -0.42  ...         0.29       -0.74   \n",
       "4       -0.05       -0.01     -0.42  ...         0.28       -0.74   \n",
       "5       -0.05       -0.01     -0.42  ...         0.29        0.78   \n",
       "\n",
       "   OpenPorchSF  EnclosedPorch  3SsnPorch  ScreenPorch  PoolArea  MiscVal  \\\n",
       "1         0.20          -0.36      -0.10        -0.29     -0.06    -0.09   \n",
       "2        -0.70          -0.36      -0.10        -0.29     -0.06    -0.09   \n",
       "3        -0.08          -0.36      -0.10        -0.29     -0.06    -0.09   \n",
       "4        -0.18           3.87      -0.10        -0.29     -0.06    -0.09   \n",
       "5         0.54          -0.36      -0.10        -0.29     -0.06    -0.09   \n",
       "\n",
       "   MoSold  YrSold  \n",
       "1   -1.55    0.16  \n",
       "2   -0.45   -0.60  \n",
       "3    1.03    0.16  \n",
       "4   -1.55   -1.36  \n",
       "5    2.13    0.16  \n",
       "\n",
       "[5 rows x 70 columns]"
      ]
     },
     "execution_count": 85,
     "metadata": {},
     "output_type": "execute_result"
    }
   ],
   "source": [
    "trim.head()\n"
   ]
  },
  {
   "cell_type": "code",
   "execution_count": 86,
   "metadata": {},
   "outputs": [
    {
     "name": "stderr",
     "output_type": "stream",
     "text": [
      "/anaconda3/lib/python3.6/site-packages/ipykernel_launcher.py:2: RuntimeWarning: invalid value encountered in log1p\n",
      "  \n"
     ]
    }
   ],
   "source": [
    "#We use the numpy fuction log1p which  applies log(1+x) to all elements of the column\n",
    "trim[\"GrLivAreaLog\"] = np.log1p(trim[\"GrLivArea\"])\n",
    "\n",
    "\n"
   ]
  },
  {
   "cell_type": "code",
   "execution_count": 87,
   "metadata": {},
   "outputs": [
    {
     "data": {
      "text/plain": [
       "1    0.35\n",
       "2   -0.64\n",
       "3    0.45\n",
       "4    0.36\n",
       "5    0.87\n",
       "Name: GrLivAreaLog, dtype: float64"
      ]
     },
     "execution_count": 87,
     "metadata": {},
     "output_type": "execute_result"
    }
   ],
   "source": [
    "trim['GrLivAreaLog'].head()"
   ]
  },
  {
   "cell_type": "code",
   "execution_count": 88,
   "metadata": {},
   "outputs": [],
   "source": [
    "trim[\"GrLivAreaLog\"] = trim[\"GrLivAreaLog\"].fillna(0)"
   ]
  },
  {
   "cell_type": "code",
   "execution_count": null,
   "metadata": {},
   "outputs": [],
   "source": []
  },
  {
   "cell_type": "code",
   "execution_count": 89,
   "metadata": {},
   "outputs": [
    {
     "name": "stderr",
     "output_type": "stream",
     "text": [
      "/anaconda3/lib/python3.6/site-packages/ipykernel_launcher.py:2: RuntimeWarning: invalid value encountered in log1p\n",
      "  \n"
     ]
    },
    {
     "data": {
      "text/plain": [
       "1   -0.59\n",
       "2    0.39\n",
       "3   -0.35\n",
       "4   -1.11\n",
       "5    0.19\n",
       "Name: TotalBsmtSFLog, dtype: float64"
      ]
     },
     "execution_count": 89,
     "metadata": {},
     "output_type": "execute_result"
    }
   ],
   "source": [
    "#We use the numpy fuction log1p which  applies log(1+x) to all elements of the column\n",
    "trim[\"TotalBsmtSFLog\"] = np.log1p(trim[\"TotalBsmtSF\"])\n",
    "\n",
    "trim[\"TotalBsmtSFLog\"] = trim[\"TotalBsmtSFLog\"].fillna(0)\n",
    "\n",
    "trim['TotalBsmtSFLog'].head()\n",
    "\n"
   ]
  },
  {
   "cell_type": "code",
   "execution_count": 90,
   "metadata": {},
   "outputs": [
    {
     "name": "stderr",
     "output_type": "stream",
     "text": [
      "/anaconda3/lib/python3.6/site-packages/ipykernel_launcher.py:2: RuntimeWarning: invalid value encountered in log1p\n",
      "  \n"
     ]
    },
    {
     "data": {
      "text/plain": [
       "1   -0.59\n",
       "2    0.39\n",
       "3   -0.35\n",
       "4   -1.11\n",
       "5    0.19\n",
       "Name: TotalBsmtSFLog, dtype: float64"
      ]
     },
     "execution_count": 90,
     "metadata": {},
     "output_type": "execute_result"
    }
   ],
   "source": [
    "#We use the numpy fuction log1p which  applies log(1+x) to all elements of the column\n",
    "trim[\"TotalBsmtSFLog\"] = np.log1p(trim[\"TotalBsmtSF\"])\n",
    "\n",
    "trim[\"TotalBsmtSFLog\"] = trim[\"TotalBsmtSFLog\"].fillna(0)\n",
    "\n",
    "trim['TotalBsmtSFLog'].head()\n"
   ]
  },
  {
   "cell_type": "code",
   "execution_count": 91,
   "metadata": {},
   "outputs": [
    {
     "data": {
      "text/plain": [
       "1    0.46\n",
       "2    0.78\n",
       "3    0.09\n",
       "4   -0.68\n",
       "5    0.38\n",
       "Name: BsmtFinSF1Log, dtype: float64"
      ]
     },
     "execution_count": 91,
     "metadata": {},
     "output_type": "execute_result"
    }
   ],
   "source": [
    "#We use the numpy fuction log1p which  applies log(1+x) to all elements of the column\n",
    "trim[\"BsmtFinSF1Log\"] = np.log1p(trim[\"BsmtFinSF1\"])\n",
    "\n",
    "trim[\"BsmtFinSF1Log\"] = trim[\"BsmtFinSF1Log\"].fillna(0)\n",
    "\n",
    "trim['BsmtFinSF1Log'].head()\n"
   ]
  },
  {
   "cell_type": "code",
   "execution_count": 92,
   "metadata": {},
   "outputs": [
    {
     "name": "stderr",
     "output_type": "stream",
     "text": [
      "/anaconda3/lib/python3.6/site-packages/ipykernel_launcher.py:2: RuntimeWarning: invalid value encountered in log1p\n",
      "  \n"
     ]
    },
    {
     "data": {
      "text/plain": [
       "1    0.30\n",
       "2   -0.06\n",
       "3    0.49\n",
       "4    0.58\n",
       "5    0.99\n",
       "Name: GarageAreaLog, dtype: float64"
      ]
     },
     "execution_count": 92,
     "metadata": {},
     "output_type": "execute_result"
    }
   ],
   "source": [
    "#We use the numpy fuction log1p which  applies log(1+x) to all elements of the column\n",
    "trim[\"GarageAreaLog\"] = np.log1p(trim[\"GarageArea\"])\n",
    "\n",
    "trim[\"GarageAreaLog\"] = trim[\"GarageAreaLog\"].fillna(0)\n",
    "\n",
    "trim['GarageAreaLog'].head()"
   ]
  },
  {
   "cell_type": "code",
   "execution_count": 93,
   "metadata": {},
   "outputs": [
    {
     "data": {
      "text/html": [
       "<div>\n",
       "<style scoped>\n",
       "    .dataframe tbody tr th:only-of-type {\n",
       "        vertical-align: middle;\n",
       "    }\n",
       "\n",
       "    .dataframe tbody tr th {\n",
       "        vertical-align: top;\n",
       "    }\n",
       "\n",
       "    .dataframe thead th {\n",
       "        text-align: right;\n",
       "    }\n",
       "</style>\n",
       "<table border=\"1\" class=\"dataframe\">\n",
       "  <thead>\n",
       "    <tr style=\"text-align: right;\">\n",
       "      <th></th>\n",
       "      <th>Street</th>\n",
       "      <th>Alley</th>\n",
       "      <th>LotShape</th>\n",
       "      <th>LandContour</th>\n",
       "      <th>LotConfig</th>\n",
       "      <th>LandSlope</th>\n",
       "      <th>Neighborhood</th>\n",
       "      <th>Condition1</th>\n",
       "      <th>Condition2</th>\n",
       "      <th>BldgType</th>\n",
       "      <th>...</th>\n",
       "      <th>3SsnPorch</th>\n",
       "      <th>ScreenPorch</th>\n",
       "      <th>PoolArea</th>\n",
       "      <th>MiscVal</th>\n",
       "      <th>MoSold</th>\n",
       "      <th>YrSold</th>\n",
       "      <th>GrLivAreaLog</th>\n",
       "      <th>TotalBsmtSFLog</th>\n",
       "      <th>BsmtFinSF1Log</th>\n",
       "      <th>GarageAreaLog</th>\n",
       "    </tr>\n",
       "  </thead>\n",
       "  <tbody>\n",
       "    <tr>\n",
       "      <th>1</th>\n",
       "      <td>0.06</td>\n",
       "      <td>0.06</td>\n",
       "      <td>0.75</td>\n",
       "      <td>0.32</td>\n",
       "      <td>0.59</td>\n",
       "      <td>-0.22</td>\n",
       "      <td>-1.25</td>\n",
       "      <td>-0.05</td>\n",
       "      <td>-0.01</td>\n",
       "      <td>-0.42</td>\n",
       "      <td>...</td>\n",
       "      <td>-0.10</td>\n",
       "      <td>-0.29</td>\n",
       "      <td>-0.06</td>\n",
       "      <td>-0.09</td>\n",
       "      <td>-1.55</td>\n",
       "      <td>0.16</td>\n",
       "      <td>0.35</td>\n",
       "      <td>-0.59</td>\n",
       "      <td>0.46</td>\n",
       "      <td>0.30</td>\n",
       "    </tr>\n",
       "    <tr>\n",
       "      <th>2</th>\n",
       "      <td>0.06</td>\n",
       "      <td>0.06</td>\n",
       "      <td>0.75</td>\n",
       "      <td>0.32</td>\n",
       "      <td>-0.66</td>\n",
       "      <td>-0.22</td>\n",
       "      <td>1.94</td>\n",
       "      <td>-1.19</td>\n",
       "      <td>-0.01</td>\n",
       "      <td>-0.42</td>\n",
       "      <td>...</td>\n",
       "      <td>-0.10</td>\n",
       "      <td>-0.29</td>\n",
       "      <td>-0.06</td>\n",
       "      <td>-0.09</td>\n",
       "      <td>-0.45</td>\n",
       "      <td>-0.60</td>\n",
       "      <td>-0.64</td>\n",
       "      <td>0.39</td>\n",
       "      <td>0.78</td>\n",
       "      <td>-0.06</td>\n",
       "    </tr>\n",
       "    <tr>\n",
       "      <th>3</th>\n",
       "      <td>0.06</td>\n",
       "      <td>0.06</td>\n",
       "      <td>-1.38</td>\n",
       "      <td>0.32</td>\n",
       "      <td>0.59</td>\n",
       "      <td>-0.22</td>\n",
       "      <td>-1.25</td>\n",
       "      <td>-0.05</td>\n",
       "      <td>-0.01</td>\n",
       "      <td>-0.42</td>\n",
       "      <td>...</td>\n",
       "      <td>-0.10</td>\n",
       "      <td>-0.29</td>\n",
       "      <td>-0.06</td>\n",
       "      <td>-0.09</td>\n",
       "      <td>1.03</td>\n",
       "      <td>0.16</td>\n",
       "      <td>0.45</td>\n",
       "      <td>-0.35</td>\n",
       "      <td>0.09</td>\n",
       "      <td>0.49</td>\n",
       "    </tr>\n",
       "    <tr>\n",
       "      <th>4</th>\n",
       "      <td>0.06</td>\n",
       "      <td>0.06</td>\n",
       "      <td>-1.38</td>\n",
       "      <td>0.32</td>\n",
       "      <td>-1.90</td>\n",
       "      <td>-0.22</td>\n",
       "      <td>-1.08</td>\n",
       "      <td>-0.05</td>\n",
       "      <td>-0.01</td>\n",
       "      <td>-0.42</td>\n",
       "      <td>...</td>\n",
       "      <td>-0.10</td>\n",
       "      <td>-0.29</td>\n",
       "      <td>-0.06</td>\n",
       "      <td>-0.09</td>\n",
       "      <td>-1.55</td>\n",
       "      <td>-1.36</td>\n",
       "      <td>0.36</td>\n",
       "      <td>-1.11</td>\n",
       "      <td>-0.68</td>\n",
       "      <td>0.58</td>\n",
       "    </tr>\n",
       "    <tr>\n",
       "      <th>5</th>\n",
       "      <td>0.06</td>\n",
       "      <td>0.06</td>\n",
       "      <td>-1.38</td>\n",
       "      <td>0.32</td>\n",
       "      <td>-0.66</td>\n",
       "      <td>-0.22</td>\n",
       "      <td>0.43</td>\n",
       "      <td>-0.05</td>\n",
       "      <td>-0.01</td>\n",
       "      <td>-0.42</td>\n",
       "      <td>...</td>\n",
       "      <td>-0.10</td>\n",
       "      <td>-0.29</td>\n",
       "      <td>-0.06</td>\n",
       "      <td>-0.09</td>\n",
       "      <td>2.13</td>\n",
       "      <td>0.16</td>\n",
       "      <td>0.87</td>\n",
       "      <td>0.19</td>\n",
       "      <td>0.38</td>\n",
       "      <td>0.99</td>\n",
       "    </tr>\n",
       "  </tbody>\n",
       "</table>\n",
       "<p>5 rows × 74 columns</p>\n",
       "</div>"
      ],
      "text/plain": [
       "   Street  Alley  LotShape  LandContour  LotConfig  LandSlope  Neighborhood  \\\n",
       "1    0.06   0.06      0.75         0.32       0.59      -0.22         -1.25   \n",
       "2    0.06   0.06      0.75         0.32      -0.66      -0.22          1.94   \n",
       "3    0.06   0.06     -1.38         0.32       0.59      -0.22         -1.25   \n",
       "4    0.06   0.06     -1.38         0.32      -1.90      -0.22         -1.08   \n",
       "5    0.06   0.06     -1.38         0.32      -0.66      -0.22          0.43   \n",
       "\n",
       "   Condition1  Condition2  BldgType  ...  3SsnPorch  ScreenPorch  PoolArea  \\\n",
       "1       -0.05       -0.01     -0.42  ...      -0.10        -0.29     -0.06   \n",
       "2       -1.19       -0.01     -0.42  ...      -0.10        -0.29     -0.06   \n",
       "3       -0.05       -0.01     -0.42  ...      -0.10        -0.29     -0.06   \n",
       "4       -0.05       -0.01     -0.42  ...      -0.10        -0.29     -0.06   \n",
       "5       -0.05       -0.01     -0.42  ...      -0.10        -0.29     -0.06   \n",
       "\n",
       "   MiscVal  MoSold  YrSold  GrLivAreaLog  TotalBsmtSFLog  BsmtFinSF1Log  \\\n",
       "1    -0.09   -1.55    0.16          0.35           -0.59           0.46   \n",
       "2    -0.09   -0.45   -0.60         -0.64            0.39           0.78   \n",
       "3    -0.09    1.03    0.16          0.45           -0.35           0.09   \n",
       "4    -0.09   -1.55   -1.36          0.36           -1.11          -0.68   \n",
       "5    -0.09    2.13    0.16          0.87            0.19           0.38   \n",
       "\n",
       "   GarageAreaLog  \n",
       "1           0.30  \n",
       "2          -0.06  \n",
       "3           0.49  \n",
       "4           0.58  \n",
       "5           0.99  \n",
       "\n",
       "[5 rows x 74 columns]"
      ]
     },
     "execution_count": 93,
     "metadata": {},
     "output_type": "execute_result"
    }
   ],
   "source": [
    "trim.head()"
   ]
  },
  {
   "cell_type": "code",
   "execution_count": null,
   "metadata": {},
   "outputs": [],
   "source": []
  },
  {
   "cell_type": "code",
   "execution_count": 94,
   "metadata": {},
   "outputs": [
    {
     "name": "stdout",
     "output_type": "stream",
     "text": [
      "R squared: 0.918799879042916\n",
      "Root Mean Squared Error: 0.049449803528797576\n"
     ]
    },
    {
     "data": {
      "image/png": "[encoded data removed]",
      "text/plain": [
       "<Figure size 432x288 with 1 Axes>"
      ]
     },
     "metadata": {},
     "output_type": "display_data"
    }
   ],
   "source": [
    "train = trim.loc[1:1460,]\n",
    "test = trim.loc[1461:2919,]\n",
    "linreg = LinearRegression()\n",
    "linreg.fit(train, trimprices)\n",
    "yhat = linreg.predict(train)\n",
    "y = trimprices\n",
    "plt.scatter(y, yhat)\n",
    "plt.xlabel('Actual Price')\n",
    "plt.ylabel('Predicted Price')\n",
    "plt.title('Results vs Actual Values')\n",
    "print(\"R squared:\",linreg.score(train, y, sample_weight=None))\n",
    "RMSE = math.sqrt(mean_squared_error(y, yhat))\n",
    "print(\"Root Mean Squared Error:\",RMSE)"
   ]
  },
  {
   "cell_type": "code",
   "execution_count": null,
   "metadata": {},
   "outputs": [],
   "source": []
  },
  {
   "cell_type": "code",
   "execution_count": null,
   "metadata": {},
   "outputs": [],
   "source": []
  },
  {
   "cell_type": "code",
   "execution_count": null,
   "metadata": {},
   "outputs": [],
   "source": []
  },
  {
   "cell_type": "code",
   "execution_count": null,
   "metadata": {},
   "outputs": [],
   "source": []
  },
  {
   "cell_type": "code",
   "execution_count": null,
   "metadata": {},
   "outputs": [],
   "source": []
  },
  {
   "cell_type": "code",
   "execution_count": null,
   "metadata": {},
   "outputs": [],
   "source": []
  },
  {
   "cell_type": "code",
   "execution_count": null,
   "metadata": {},
   "outputs": [],
   "source": []
  },
  {
   "cell_type": "code",
   "execution_count": 95,
   "metadata": {},
   "outputs": [
    {
     "name": "stdout",
     "output_type": "stream",
     "text": [
      "      SalePrice\n",
      "Id             \n",
      "1461 120,552.80\n",
      "1462 156,971.03\n",
      "1463 176,741.26\n",
      "1464 194,441.04\n",
      "1465 186,979.66\n"
     ]
    }
   ],
   "source": [
    "submission = pd.DataFrame({'Id':test.index, 'SalePrice': np.power(10, linreg.predict(test))})\n",
    "submission.set_index('Id', inplace=True)\n",
    "print(submission.head())\n",
    "timestamp = datetime.now().strftime('%m-%d-%H-%M-%S')"
   ]
  },
  {
   "cell_type": "code",
   "execution_count": 65,
   "metadata": {},
   "outputs": [],
   "source": [
    "submission.to_csv(f'submission_files/Sub{timestamp}.csv')"
   ]
  },
  {
   "cell_type": "code",
   "execution_count": null,
   "metadata": {},
   "outputs": [],
   "source": []
  }
 ],
 "metadata": {
  "kernelspec": {
   "display_name": "Python 3",
   "language": "python",
   "name": "python3"
  },
  "language_info": {
   "codemirror_mode": {
    "name": "ipython",
    "version": 3
   },
   "file_extension": ".py",
   "mimetype": "text/x-python",
   "name": "python",
   "nbconvert_exporter": "python",
   "pygments_lexer": "ipython3",
   "version": "3.6.8"
  }
 },
 "nbformat": 4,
 "nbformat_minor": 2
}
